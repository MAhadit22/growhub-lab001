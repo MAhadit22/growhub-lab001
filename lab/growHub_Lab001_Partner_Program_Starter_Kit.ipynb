{
 "cells": [
  {
   "cell_type": "markdown",
   "id": "63ab6c3d",
   "metadata": {},
   "source": [
    "# 🧠 growHub Lab #001: Partner Program Starter Kit\n",
    "\n",
    "**Lab Type:** Idea  \n",
    "**Estimated Time:** 30–45 mins  \n",
    "**Skill Level:** Beginner"
   ]
  },
  {
   "cell_type": "code",
   "execution_count": null,
   "id": "4882a601",
   "metadata": {},
   "outputs": [],
   "source": [
    "# Let's begin by printing your name to personalize the notebook\n",
    "your_name = \"\"\n",
    "print(f\"Welcome to the lab, {your_name}!\")"
   ]
  },
  {
   "cell_type": "markdown",
   "id": "1dad41de",
   "metadata": {},
   "source": [
    "## 🔍 STAR Method Lab Prompt\n",
    "\n",
    "**Situation:**  \n",
    "[What PRM challenge are you tackling?]\n",
    "\n",
    "**Task:**  \n",
    "[What partner-related process or strategy are you improving?]\n",
    "\n",
    "**Action:**  \n",
    "[What Google or CRM tools will you use? Include Gemini prompts.]\n",
    "\n",
    "**Expected Result:**  \n",
    "[A simplified workflow, document, or dashboard to manage PRM.]"
   ]
  },
  {
   "cell_type": "markdown",
   "id": "34ace88e",
   "metadata": {},
   "source": [
    "## ✍️ Your Assignment\n",
    "\n",
    "_Use this section to complete your deliverable:_\n",
    "\n",
    "```markdown\n",
    "(Example Format)\n",
    "\n",
    "- **Partner Type**: Resellers  \n",
    "- **Target Region**: North America  \n",
    "- **Onboarding Docs**: Welcome deck, tier chart, commission table  \n",
    "- **Gemini Prompt**: \"Create a 1-page overview of a new B2B reseller program\"  \n",
    "- **Output**: Starter plan with resources & next steps  \n",
    "```"
   ]
  }
 ],
 "metadata": {},
 "nbformat": 4,
 "nbformat_minor": 5
}
